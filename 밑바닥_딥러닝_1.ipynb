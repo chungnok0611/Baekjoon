{
  "cells": [
    {
      "cell_type": "markdown",
      "metadata": {
        "id": "view-in-github",
        "colab_type": "text"
      },
      "source": [
        "<a href=\"https://colab.research.google.com/github/chungnok0611/Baekjoon/blob/master/%EB%B0%91%EB%B0%94%EB%8B%A5_%EB%94%A5%EB%9F%AC%EB%8B%9D_1.ipynb\" target=\"_parent\"><img src=\"https://colab.research.google.com/assets/colab-badge.svg\" alt=\"Open In Colab\"/></a>"
      ]
    },
    {
      "cell_type": "code",
      "source": [
        "#넘파이(numpy) 배열이나 행렬 계산산\n",
        "import numpy as np\n",
        "#넘파이 배열\n",
        "x = np.array([1.0, 2.0, 3.0]) \n",
        "print(x)\n",
        "type(x)"
      ],
      "metadata": {
        "colab": {
          "base_uri": "https://localhost:8080/"
        },
        "id": "FYOBKYIYDSiL",
        "outputId": "7c5059db-ea40-4414-8d2d-cde89addd9db"
      },
      "execution_count": null,
      "outputs": [
        {
          "output_type": "stream",
          "name": "stdout",
          "text": [
            "[1. 2. 3.]\n"
          ]
        },
        {
          "output_type": "execute_result",
          "data": {
            "text/plain": [
              "numpy.ndarray"
            ]
          },
          "metadata": {},
          "execution_count": 2
        }
      ]
    },
    {
      "cell_type": "code",
      "source": [
        "#넘파이 산술연산\n",
        "x = np.array([1.0, 2.0, 3.0])\n",
        "y = np.array([2.0, 4.0, 6.0])\n",
        "print(x + y) #원소별 덧셈\n",
        "print(x - y) #원소별 뺄셈\n",
        "print(x * y) #원소별 곱셈\n",
        "print(x / y) #원소별 나눗눗셈\n",
        "#넘파이 배열은 원소별 계산뿐만아니라 넘파이 배열과 수치하나(스칼라값)의 조합으로 된 산술연산도 수행가능능"
      ],
      "metadata": {
        "id": "jIHYJuYaDSlL",
        "outputId": "ffe5120a-3272-432e-f58e-f7bd4ee64e48",
        "colab": {
          "base_uri": "https://localhost:8080/"
        }
      },
      "execution_count": null,
      "outputs": [
        {
          "output_type": "stream",
          "name": "stdout",
          "text": [
            "[3. 6. 9.]\n",
            "[-1. -2. -3.]\n",
            "[ 2.  8. 18.]\n",
            "[0.5 0.5 0.5]\n"
          ]
        }
      ]
    },
    {
      "cell_type": "code",
      "source": [
        "#넘파이의 N차원 배열\n",
        "a = np.array([[1,2],[3,4]])\n",
        "print(a)\n",
        "a.shape\n",
        "a.dtype\n",
        "b = np.array([[3,5],[5,6]])\n",
        "a+b"
      ],
      "metadata": {
        "id": "S6Xa47_HDSnz",
        "colab": {
          "base_uri": "https://localhost:8080/"
        },
        "outputId": "a5e60f25-ddf3-477d-e788-67ecb775d3f2"
      },
      "execution_count": null,
      "outputs": [
        {
          "output_type": "stream",
          "name": "stdout",
          "text": [
            "[[1 2]\n",
            " [3 4]]\n"
          ]
        },
        {
          "output_type": "execute_result",
          "data": {
            "text/plain": [
              "array([[ 4,  7],\n",
              "       [ 8, 10]])"
            ]
          },
          "metadata": {},
          "execution_count": 13
        }
      ]
    },
    {
      "cell_type": "code",
      "source": [
        "#브로드캐스트(형상이 다른 배열끼리 곱하는 것)\n",
        "A = np.array([[1,2],[3,4]])\n",
        "B = np.array([10,20])\n",
        "A * B"
      ],
      "metadata": {
        "colab": {
          "base_uri": "https://localhost:8080/"
        },
        "id": "FBaFSKnZuzSm",
        "outputId": "c6a22d18-4097-4b18-faaa-5fdeee6eb256"
      },
      "execution_count": null,
      "outputs": [
        {
          "output_type": "execute_result",
          "data": {
            "text/plain": [
              "array([[10, 40],\n",
              "       [30, 80]])"
            ]
          },
          "metadata": {},
          "execution_count": 17
        }
      ]
    },
    {
      "cell_type": "code",
      "source": [
        "#원소접근\n",
        "X = np.array([[51,55],[14,19],[0,4]])\n",
        "print(X)\n",
        "X[0]      #0행\n",
        "X[0][1]   #(0,1) 위치의 원소\n",
        "\n",
        "print(\"\") #for 문을 이용한 원원소접근\n",
        "for row in X:\n",
        "  print(row)\n",
        "\n",
        "#인덱스를 배열로 지정해 한번에 여러원소 접근\n",
        "X = X.flatten()\n",
        "print(\"\")\n",
        "print(X)\n",
        "X[np.array([0,2,4])]"
      ],
      "metadata": {
        "colab": {
          "base_uri": "https://localhost:8080/"
        },
        "id": "8li_PBUxuzWk",
        "outputId": "c3ff1385-dcea-4557-ec5e-c06cf2174390"
      },
      "execution_count": null,
      "outputs": [
        {
          "output_type": "stream",
          "name": "stdout",
          "text": [
            "[[51 55]\n",
            " [14 19]\n",
            " [ 0  4]]\n",
            "\n",
            "[51 55]\n",
            "[14 19]\n",
            "[0 4]\n",
            "\n",
            "[51 55 14 19  0  4]\n"
          ]
        },
        {
          "output_type": "execute_result",
          "data": {
            "text/plain": [
              "array([51, 14,  0])"
            ]
          },
          "metadata": {},
          "execution_count": 32
        }
      ]
    },
    {
      "cell_type": "code",
      "source": [
        "#matplotlib 그래프그리기와 데이터 시각화\n",
        "import matplotlib.pyplot as  plt #단순그래프 그리기\n",
        "\n",
        "#데이터 준비\n",
        "x = np.arange(0, 6, 0.1) # 0에서 6까지 0.1간격으로 생성\n",
        "y = np.sin(x) #sin함수 그리기\n",
        "\n",
        "#그래프 그리기\n",
        "plt.plot(x,y,color='green')\n",
        "plt.show()"
      ],
      "metadata": {
        "colab": {
          "base_uri": "https://localhost:8080/",
          "height": 265
        },
        "id": "cBYgpsQuuzaa",
        "outputId": "c22f5d46-b03e-4672-a969-029310a07dd1"
      },
      "execution_count": 5,
      "outputs": [
        {
          "output_type": "display_data",
          "data": {
            "text/plain": [
              "<Figure size 432x288 with 1 Axes>"
            ],
            "image/png": "[encoded data removed]"
          },
          "metadata": {
            "needs_background": "light"
          }
        }
      ]
    },
    {
      "cell_type": "code",
      "source": [
        "#pyplot의 기능\n",
        "#데이터 준비\n",
        "x = np.arange(0,6,0.1)\n",
        "y1 = np.sin(x)\n",
        "y2 = np.cos(x)\n",
        "\n",
        "#그래프 그리기\n",
        "plt.plot(x,y1,label=\"sin\")\n",
        "plt.plot(x,y2,linestyle=\"--\",label=\"cos\") #cos함수는 점선으로그리기\n",
        "plt.xlabel(\"x\") #x축이름\n",
        "plt.ylabel(\"y\") #y축이름\n",
        "plt.title('sin & cos') #제목\n",
        "plt.legend()\n",
        "plt.show()"
      ],
      "metadata": {
        "id": "Ibe5qNQpuzeG",
        "colab": {
          "base_uri": "https://localhost:8080/",
          "height": 295
        },
        "outputId": "df2b7a80-35d9-4bc8-d95d-fe51a1e22268"
      },
      "execution_count": null,
      "outputs": [
        {
          "output_type": "display_data",
          "data": {
            "text/plain": [
              "<Figure size 432x288 with 1 Axes>"
            ],
            "image/png": "[encoded data removed]"
          },
          "metadata": {
            "needs_background": "light"
          }
        }
      ]
    },
    {
      "cell_type": "code",
      "source": [
        "#이미지 표시\n",
        "import matplotlib.pyplot as plt\n",
        "from matplotlib.image import imread\n",
        "\n",
        "img = imread('/content/KakaoTalk_20220712_114510746.jpg')\n",
        "plt.imshow(img)\n",
        "plt.show()"
      ],
      "metadata": {
        "id": "xi02GSynuzh9",
        "colab": {
          "base_uri": "https://localhost:8080/",
          "height": 269
        },
        "outputId": "8f46c938-abc8-4561-9c1f-6ce8151bd397"
      },
      "execution_count": null,
      "outputs": [
        {
          "output_type": "display_data",
          "data": {
            "text/plain": [
              "<Figure size 432x288 with 1 Axes>"
            ],
            "image/png": "[encoded data removed]"
          },
          "metadata": {
            "needs_background": "light"
          }
        }
      ]
    },
    {
      "cell_type": "code",
      "source": [
        "#퍼셉트론(단순,인공뉴런)\n",
        "def AND1(x1,x2):               #AND함수\n",
        "  w1,w2,theata = 0.5,0.5,0.7  #가중치2개, 임계값\n",
        "  tmp = x1*w1 + x2*w2\n",
        "  if tmp <= theata:\n",
        "    print(0)\n",
        "    return 0\n",
        "  elif tmp > theata:\n",
        "    return 1\n",
        "AND1(0,0) #0출력\n",
        "AND1(1,0) #0출력\n",
        "AND1(0,1) #0출력\n",
        "AND1(1,1) #1출력"
      ],
      "metadata": {
        "colab": {
          "base_uri": "https://localhost:8080/"
        },
        "id": "cfpZUzJvN4Ol",
        "outputId": "81710cf8-2e37-41a6-9d00-9bcaa0b8d47a"
      },
      "execution_count": null,
      "outputs": [
        {
          "output_type": "execute_result",
          "data": {
            "text/plain": [
              "1"
            ]
          },
          "metadata": {},
          "execution_count": 4
        }
      ]
    },
    {
      "cell_type": "code",
      "source": [
        "#가중치와 편향도입 \n",
        "import numpy as np\n",
        "x = np.array([0,1])     #입력\n",
        "w = np.array([0.5,0.5]) #가중치 = 입력신호가 결과에 주는 영향력을 조절하는 매개변수\n",
        "b = -0.7                #편향 = 뉴런이 얼마나 쉽게 활성화(1출력)하느냐를 조정하는 매개변수 낮으면 쉽게활성화\n",
        "w*x                     #배열끼리 곱셈\n",
        "np.sum(w*x)             #()의 담긴 모든원소의 합\n",
        "np.sum(w*x)+b           #편향추가"
      ],
      "metadata": {
        "colab": {
          "base_uri": "https://localhost:8080/"
        },
        "id": "yuPQgB3yN4Vb",
        "outputId": "9ba7f80d-781a-4cfe-b414-28ad5e3aea97"
      },
      "execution_count": null,
      "outputs": [
        {
          "output_type": "execute_result",
          "data": {
            "text/plain": [
              "-0.19999999999999996"
            ]
          },
          "metadata": {},
          "execution_count": 5
        }
      ]
    },
    {
      "cell_type": "code",
      "source": [
        "#보완된 AND 함수\n",
        "def AND(x1,x2):\n",
        "  x = np.array([x1,x2]) \n",
        "  w = np.array([0.5,0.5])\n",
        "  b = -0.7\n",
        "  tmp = np.sum(x*w)+b\n",
        "  if tmp <= 0:\n",
        "    return 0\n",
        "  else:\n",
        "    return 1"
      ],
      "metadata": {
        "id": "CWNyA1wvN5Od"
      },
      "execution_count": null,
      "outputs": []
    },
    {
      "cell_type": "code",
      "source": [
        "#NAND 함수\n",
        "def NAND(x1,x2):\n",
        "  x = np.array([x1,x2])\n",
        "  w = np.array([-0.5,-0.5])\n",
        "  b = 0.7\n",
        "  tmp = np.sum(x*w)+b\n",
        "  if tmp <= 0:\n",
        "    return 0\n",
        "  else:\n",
        "    return 1\n",
        "#OR 함수\n",
        "def OR(x1,x2):\n",
        "  x = np.array([x1,x2])\n",
        "  w = np.array([0.5,0.5]) \n",
        "  b =-0.2\n",
        "  tmp = np.sum(w*x)+b\n",
        "  if tmp <= 0:\n",
        "    return 0\n",
        "  else:\n",
        "    return 1\n",
        "print(OR(0,0)) #1출력\n",
        "print(OR(0,1)) #1출력\n",
        "print(OR(1,0)) #1출력\n",
        "print(OR(1,1)) #0출력\n",
        "#단층퍼셉트론으론 베타적 논리합게이트(XOR)는 만들수없다 = 비선형영역을 분리할수없다다"
      ],
      "metadata": {
        "id": "o-AsoYvE6_YL",
        "colab": {
          "base_uri": "https://localhost:8080/"
        },
        "outputId": "2864d239-48be-4617-8d72-442fec79119c"
      },
      "execution_count": null,
      "outputs": [
        {
          "output_type": "stream",
          "name": "stdout",
          "text": [
            "0\n",
            "1\n",
            "1\n",
            "1\n"
          ]
        }
      ]
    },
    {
      "cell_type": "code",
      "source": [
        "#다층 퍼셉트론과 XOR게이트\n",
        "def XOR(x1,x2):\n",
        "  s1 = NAND(x1,x2)\n",
        "  s2 = OR(x1,x2)\n",
        "  y = AND(s1,s2)\n",
        "  return y\n",
        "print(XOR(0,0))\n",
        "print(XOR(0,1))\n",
        "print(XOR(1,0))\n",
        "print(XOR(1,1))\n",
        "#다층 퍼셉트론은 이론상컴퓨터를 표현할 수 있다.(그 만큼 복잠한 함수도 처리가능)\n",
        "#단 가중치값을 설정하는 것은 수동으로 해야한다다 "
      ],
      "metadata": {
        "id": "uZASDoqs6_jY",
        "colab": {
          "base_uri": "https://localhost:8080/"
        },
        "outputId": "b4daffd0-9f88-4e35-d708-d7d8ae5673bb"
      },
      "execution_count": null,
      "outputs": [
        {
          "output_type": "stream",
          "name": "stdout",
          "text": [
            "0\n",
            "1\n",
            "1\n",
            "0\n"
          ]
        }
      ]
    },
    {
      "cell_type": "markdown",
      "source": [],
      "metadata": {
        "id": "D-HbPUshuzqo"
      }
    },
    {
      "cell_type": "markdown",
      "source": [],
      "metadata": {
        "id": "7z2kZnfhuzu2"
      }
    },
    {
      "cell_type": "markdown",
      "source": [],
      "metadata": {
        "id": "UEYBoFMiuzyQ"
      }
    },
    {
      "cell_type": "code",
      "source": [
        "#신경망 입력층 -> 은닉층 -> 추력층 으로 구성성\n",
        "#활성화 함수 = 입력신호의 총합을 출력신호로 변환하는 함수 = 입력신호의 총합이 활성화를 일으키는지 정하는 함수"
      ],
      "metadata": {
        "id": "g895XMO_0uuk"
      },
      "execution_count": null,
      "outputs": []
    },
    {
      "cell_type": "code",
      "source": [
        "#계단함수 구현하기\n",
        "'''def step_function(x):   #실수난가능능\n",
        "  if x > 0:\n",
        "    return 1\n",
        "  else:\n",
        "    return 0\n",
        "def step_function(x):   #넘파이 배열도 지원\n",
        "  y = x>0                 #y는  boll매열로생성됨됨\n",
        "  return y.astype(np.int)''' #넘파이배열 자료형을 면환할때 astype()매서드활용용"
      ],
      "metadata": {
        "id": "DDL-E3in0u3j"
      },
      "execution_count": null,
      "outputs": []
    },
    {
      "cell_type": "code",
      "source": [
        "#계단함수 그리기\n",
        "import numpy as np\n",
        "import matplotlib.pyplot as plt\n",
        "\n",
        "def step_function(x):\n",
        "  return np.array(x > 0,int)\n",
        "\n",
        "x = np.arange(-6.0,6.0,0.1)\n",
        "y = step_function(x)\n",
        "plt.plot(x,y)\n",
        "plt.ylim(-0.1,1.1)  #y축의 범위 지정\n",
        "plt.show()"
      ],
      "metadata": {
        "id": "En3X8Gmv0u6D",
        "colab": {
          "base_uri": "https://localhost:8080/",
          "height": 265
        },
        "outputId": "0d26e67f-ad1f-4220-9a1a-c0b17c8b78aa"
      },
      "execution_count": null,
      "outputs": [
        {
          "output_type": "display_data",
          "data": {
            "text/plain": [
              "<Figure size 432x288 with 1 Axes>"
            ],
            "image/png": "[encoded data removed]"
          },
          "metadata": {
            "needs_background": "light"
          }
        }
      ]
    },
    {
      "cell_type": "code",
      "source": [
        "#시그모이드 함수\n",
        "def sigmoid(x):\n",
        "  return 1 / (1+np.exp(-x))\n",
        "x = np.array([-1.0,1.0,2.0])\n",
        "print(sigmoid(x))\n",
        "t = np.array([1.0,2.0,3.0])\n",
        "print(1.0 + t)\n",
        "1.0 / t"
      ],
      "metadata": {
        "id": "dORifY2l0u8L",
        "colab": {
          "base_uri": "https://localhost:8080/"
        },
        "outputId": "d5655fa7-94fe-4ac8-ae09-9cab6b8075d5"
      },
      "execution_count": null,
      "outputs": [
        {
          "output_type": "stream",
          "name": "stdout",
          "text": [
            "[0.26894142 0.73105858 0.88079708]\n",
            "[2. 3. 4.]\n"
          ]
        },
        {
          "output_type": "execute_result",
          "data": {
            "text/plain": [
              "array([1.        , 0.5       , 0.33333333])"
            ]
          },
          "metadata": {},
          "execution_count": 44
        }
      ]
    },
    {
      "cell_type": "code",
      "source": [
        "#시그모이드함수 그리기\n",
        "x = np.arange(-5.0,5.0,0.1)\n",
        "y = sigmoid(x)\n",
        "plt.plot(x,y)\n",
        "plt.ylim(0,1.1) #y축 범위 지정\n",
        "plt.show()"
      ],
      "metadata": {
        "colab": {
          "base_uri": "https://localhost:8080/",
          "height": 265
        },
        "id": "-lXmD7LV34Oy",
        "outputId": "045c03b8-4f0c-447e-b0ea-decae8678007"
      },
      "execution_count": null,
      "outputs": [
        {
          "output_type": "display_data",
          "data": {
            "text/plain": [
              "<Figure size 432x288 with 1 Axes>"
            ],
            "image/png": "[encoded data removed]"
          },
          "metadata": {
            "needs_background": "light"
          }
        }
      ]
    },
    {
      "cell_type": "code",
      "source": [
        "#ReLU함수\n",
        "def relu(x):\n",
        "  return np.maximum(0,x)\n",
        "x = np.arange(-6.0,6.0,0.1)\n",
        "y = relu(x)\n",
        "plt.plot(x,y)\n",
        "plt.ylim(-0.2,1.1) #y축 범위 지정\n",
        "plt.show()"
      ],
      "metadata": {
        "colab": {
          "base_uri": "https://localhost:8080/",
          "height": 265
        },
        "id": "4NPxzXYd4leg",
        "outputId": "1ddafcd9-bc08-4db5-8785-5cdb6022a6fe"
      },
      "execution_count": null,
      "outputs": [
        {
          "output_type": "display_data",
          "data": {
            "text/plain": [
              "<Figure size 432x288 with 1 Axes>"
            ],
            "image/png": "[encoded data removed]"
          },
          "metadata": {
            "needs_background": "light"
          }
        }
      ]
    },
    {
      "cell_type": "code",
      "source": [
        "#다차원 배열\n",
        "#1차원의 예시\n",
        "import numpy as np\n",
        "A = np.array([1,2,3,4])\n",
        "print(A)\n",
        "np.ndim(A)\n",
        "print(A.shape)\n",
        "A.shape[0]"
      ],
      "metadata": {
        "colab": {
          "base_uri": "https://localhost:8080/"
        },
        "id": "hP_cugWv58Mo",
        "outputId": "1f4116d3-f9a6-4f7a-dc93-0438c4396e58"
      },
      "execution_count": null,
      "outputs": [
        {
          "output_type": "stream",
          "name": "stdout",
          "text": [
            "[1 2 3 4]\n",
            "(4,)\n"
          ]
        },
        {
          "output_type": "execute_result",
          "data": {
            "text/plain": [
              "4"
            ]
          },
          "metadata": {},
          "execution_count": 1
        }
      ]
    },
    {
      "cell_type": "code",
      "source": [
        "#2처워의 예시\n",
        "B = np.array([[1, 2], [3, 4], [5, 6]])\n",
        "print(B)\n",
        "print(np.ndim(B))\n",
        "print(B.shape)"
      ],
      "metadata": {
        "id": "M6ZmAaBI2Tbh"
      },
      "execution_count": null,
      "outputs": []
    },
    {
      "cell_type": "code",
      "source": [
        "#행렬의 내적(행렬곱)\n",
        "A = np.array([[1, 2], [3, 4]])\n",
        "print(A.shape)\n",
        "B = np.array([[5, 6], [7, 8]])\n",
        "print(B.shape)\n",
        "np.dot(A, B)  #배열 2개를 인수로 받아 두 행렬의 내적을 반환.\n",
        "#np.dot(A, B)와 np.dot(B, A)는 다른 값이 될 수 있음."
      ],
      "metadata": {
        "colab": {
          "base_uri": "https://localhost:8080/"
        },
        "id": "bRt1xPFy2ZWv",
        "outputId": "e0efb0bb-489c-433f-d063-979f946b57d2"
      },
      "execution_count": null,
      "outputs": [
        {
          "output_type": "stream",
          "name": "stdout",
          "text": [
            "(2, 2)\n",
            "(2, 2)\n"
          ]
        },
        {
          "output_type": "execute_result",
          "data": {
            "text/plain": [
              "array([[19, 22],\n",
              "       [43, 50]])"
            ]
          },
          "metadata": {},
          "execution_count": 2
        }
      ]
    },
    {
      "cell_type": "code",
      "source": [
        "#2 X 3 행렬과 3 X 2 행렬의 곱\n",
        "A = np.array([[1, 2, 3], [4, 5, 6]])\n",
        "print(A.shape)\n",
        "B = np.array([[1, 2], [3, 4], [5, 6]])\n",
        "print(B.shape)\n",
        "np.dot(A, B)"
      ],
      "metadata": {
        "id": "l8aeOBAV2ZaB"
      },
      "execution_count": null,
      "outputs": []
    },
    {
      "cell_type": "code",
      "source": [
        "#2 X 3 행렬 A와 2 X 2 행렬 C를 곱하면 생기는 오류\n",
        "C = np.array([[1, 2], [3, 4]])\n",
        "print(C.shape)\n",
        "print(A.shape)\n",
        "np.dot(A, C)\n",
        "#두 행렬의 대응하는 차원의 원소 수를 일치시켜야 함"
      ],
      "metadata": {
        "id": "71dNKxWu2TmP"
      },
      "execution_count": null,
      "outputs": []
    },
    {
      "cell_type": "code",
      "source": [
        "#A가 2차원 행렬이고 B가 1차원 배열일 때도 '대응하는 차원의 원소 수를 일치시켜라'는 원칙이 똑같이 적용됨.\n",
        "A = np.array([[1, 2], [3, 4], [5, 6]])\n",
        "print(A.shape)\n",
        "B = np.array([7, 8])\n",
        "print(B.shape)\n",
        "np.dot(A, B)"
      ],
      "metadata": {
        "id": "l_XgmMts8TvV"
      },
      "execution_count": null,
      "outputs": []
    },
    {
      "cell_type": "code",
      "source": [
        "#신경망의 내적 (행렬의 곲으로 신경망의 계산을 수행한다ㅊ)\n",
        "X = np.array([1, 2])\n",
        "print(X.shape)\n",
        "W = np.array([[1, 3, 5], [2, 4, 6]])\n",
        "print(W)\n",
        "print(W.shape)\n",
        "Y = np.dot(X, W)\n",
        "print(Y)"
      ],
      "metadata": {
        "id": "HYHJaaZw8ZVc"
      },
      "execution_count": null,
      "outputs": []
    },
    {
      "cell_type": "code",
      "source": [
        "#3층 신경망 구현\n",
        "X = np.array([1.0, 0.5])\n",
        "W1 = np.array([[0.1, 0.3, 0.5], [0.2, 0.4, 0.6]])\n",
        "B1 = np.array([0.1, 0.2, 0.3])\n",
        "\n",
        "print(W1.shape) # (2, 3)\n",
        "print(B.shape)  # (2, 3)\n",
        "print(X.shape)  # (2,)\n",
        "\n",
        "A1 = np.dot(X, W1) + B1"
      ],
      "metadata": {
        "id": "j8bfA9FX8ZXk"
      },
      "execution_count": null,
      "outputs": []
    },
    {
      "cell_type": "code",
      "source": [
        "#활성화 함수로 sigmoid함수사용\n",
        "Z1 = sigmoid(A1)\n",
        "\n",
        "print(A1) # [0.3, 0.7, 1.1]\n",
        "print(Z1) # [0.57444252, 0.66818777, 0.75026011]"
      ],
      "metadata": {
        "id": "rAAB-XWW8ZZ0"
      },
      "execution_count": null,
      "outputs": []
    },
    {
      "cell_type": "code",
      "source": [
        "#1층에서 2층으로의 신호 전달\n",
        "W2 = np.array([[0.1, 0.4], [0.2, 0.5], [0.3, 0.6]])\n",
        "B2 = np.array([0.1, 0.2])\n",
        "\n",
        "print(Z1.shape) # (3,)\n",
        "print(W2.shape) # (3, 2)\n",
        "print(B2.shape) # (2,)\n",
        "\n",
        "A2 = np.dot(Z1, W2) + B2\n",
        "Z2 = sigmoid(A2)"
      ],
      "metadata": {
        "id": "5lypB9gq8Zb8"
      },
      "execution_count": null,
      "outputs": []
    },
    {
      "cell_type": "code",
      "source": [
        "#2층에서 출력층으로 신호 전달. 활성화 함수만 지금까지 은닉층과 다름. (항등 함수)\n",
        "def identity_function(x): #항등 함수 identity_function 정의. 입력을 그대로 출력하는 함수.\n",
        "    return x\n",
        "\n",
        "W3 = np.array([[0.1, 0.3], [0.2, 0.4]])\n",
        "B3 = np.array([0.1, 0.2])\n",
        "\n",
        "A3 = np.dot(Z2, W3) + B3\n",
        "Y = identity_function(A3) # 혹은 Y = A3"
      ],
      "metadata": {
        "id": "LAke0DLrBxA2"
      },
      "execution_count": null,
      "outputs": []
    },
    {
      "cell_type": "code",
      "source": [
        "#구현 정리\n",
        "def init_network():   #가중치와 편향을 초기화하고 딕셔너리 변수인 network에 저장\n",
        "    network = {}\n",
        "    network['W1'] = np.array([[0.1, 0.3, 0.5], [0.2, 0.4, 0.6]])\n",
        "    network['b1'] = np.array([0.1, 0.2, 0.3])\n",
        "    network['W2'] = np.array([[0.1, 0.4], [0.2, 0.5], [0.3, 0.6]])\n",
        "    network['b2'] = np.array([0.1, 0.2])\n",
        "    network['W3'] = np.array([[0.1, 0.3], [0.2, 0.4]])\n",
        "    network['b3'] = np.array([0.1, 0.2])\n",
        "    \n",
        "    return network\n",
        "\n",
        "def forward(network, x):  #입력 신호를 출력으로 변환하는 처리과정 모두 구현\n",
        "    W1, W2, W3 = network['W1'], network['W2'], network['W3']\n",
        "    b1, b2, b3 = network['b1'], network['b2'], network['b3']\n",
        "    \n",
        "    a1 = np.dot(x, W1) + b1\n",
        "    z1 = sigmoid(a1)\n",
        "    a2 = np.dot(z1, W2) + b2\n",
        "    z2 = sigmoid(a2)\n",
        "    a3 = np.dot(z2, W3) + b3\n",
        "    y = identity_function(a3)\n",
        "    \n",
        "    return y\n",
        "\n",
        "network = init_network()\n",
        "x = np.array([1.0, 0.5])\n",
        "y = forward(network, x)\n",
        "print(y) # [0.31682708 0.69627909]"
      ],
      "metadata": {
        "id": "xZiYjfIxBxDV"
      },
      "execution_count": null,
      "outputs": []
    }
  ],
  "metadata": {
    "colab": {
      "provenance": [],
      "include_colab_link": true
    },
    "kernelspec": {
      "display_name": "Python 3",
      "name": "python3"
    }
  },
  "nbformat": 4,
  "nbformat_minor": 0
}